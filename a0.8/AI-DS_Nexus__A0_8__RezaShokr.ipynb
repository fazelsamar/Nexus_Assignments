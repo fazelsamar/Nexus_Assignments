{
  "nbformat": 4,
  "nbformat_minor": 0,
  "metadata": {
    "colab": {
      "provenance": []
    },
    "kernelspec": {
      "name": "python3",
      "display_name": "Python 3"
    },
    "language_info": {
      "name": "python"
    }
  },
  "cells": [
    {
      "cell_type": "markdown",
      "source": [
        "# 🧠 Assignment: Getting Started with TensorFlow\n",
        "\n",
        "\n",
        "<p align=\"center\">📢⚠️📂  </p>\n",
        "\n",
        "<p align=\"center\"> Please name your file using the format: <code>assignmentName_nickname.py/.ipynb</code> (e.g., <code>project1_ali.py</code>) and push it to GitHub with a clear commit message.</p>\n",
        "\n",
        "<p align=\"center\"> 🚨📝🧠 </p>\n",
        "\n",
        "------------------------------------------------\n",
        "\n"
      ],
      "metadata": {
        "id": "WKCsWe71mbTO"
      }
    },
    {
      "cell_type": "markdown",
      "source": [
        "## 🎯 Goal\n",
        "This assignment evaluates your basic skills in using TensorFlow, including creating tensors, performing operations, and building a simple model.\n",
        "\n",
        "### 1️⃣ Setup and Basics\n",
        "**Task:**\n",
        "\n",
        "* Install TensorFlow and verify the version.\n",
        "* Create a simple tensor and print it."
      ],
      "metadata": {
        "id": "ODPYXweVmdKp"
      }
    },
    {
      "cell_type": "code",
      "execution_count": null,
      "metadata": {
        "id": "LrzxFPr3mPno"
      },
      "outputs": [],
      "source": [
        "# Example snippet\n",
        "import tensorflow as tf\n",
        "\n",
        "print(\"TensorFlow version:\", tf.__version__)\n",
        "a = tf.constant([[1, 2], [3, 4]])\n",
        "print(\"Tensor a:\\n\", a)\n"
      ]
    },
    {
      "cell_type": "code",
      "source": [
        "# Your turn:\n",
        "# Create a tensor b with values [[5, 6], [7, 8]] and print its shape.\n",
        "\n",
        "\n"
      ],
      "metadata": {
        "id": "MSC0WPwymq3V"
      },
      "execution_count": null,
      "outputs": []
    },
    {
      "cell_type": "markdown",
      "source": [
        "### 2️⃣ Tensor Operations\n",
        "**Task:** Perform element-wise addition and multiplication."
      ],
      "metadata": {
        "id": "b4cuWXJvmwdC"
      }
    },
    {
      "cell_type": "code",
      "source": [
        "# Example snippet\n",
        "c = a + b\n",
        "print(\"Addition:\\n\", c)\n",
        "\n",
        "d = a * b\n",
        "print(\"Multiplication:\\n\", d)\n"
      ],
      "metadata": {
        "id": "pzlGeEuhmtYo"
      },
      "execution_count": null,
      "outputs": []
    },
    {
      "cell_type": "code",
      "source": [
        "# Your turn:\n",
        "# Compute a @ b (matrix multiplication) and print the result.\n",
        "\n",
        "\n",
        "\n"
      ],
      "metadata": {
        "id": "zv02rBVZmzPR"
      },
      "execution_count": null,
      "outputs": []
    },
    {
      "cell_type": "markdown",
      "source": [
        "### 3️⃣ Random Tensors 🎲\n",
        "**Task:** Generate a random tensor of shape (3, 3) from a normal distribution and print its mean and standard deviation."
      ],
      "metadata": {
        "id": "CbDULpk7m3c2"
      }
    },
    {
      "cell_type": "code",
      "source": [
        "# Example snippet\n",
        "random_tensor = tf.random._____([3, 3])\n",
        "print(\"Random Tensor:\\n\", random_tensor)\n",
        "print(\"Mean:\", tf.reduce_mean(random_tensor))\n",
        "print(\"Std Dev:\", tf.math.reduce_std(random_tensor))\n"
      ],
      "metadata": {
        "id": "Czc74X8Nm2Oa"
      },
      "execution_count": null,
      "outputs": []
    },
    {
      "cell_type": "markdown",
      "source": [
        "### 4️⃣ Building a Simple Model 🤖\n",
        "**Task:** Build a single-layer neural network using tf.keras.Sequential."
      ],
      "metadata": {
        "id": "wVH1vcq3nDgV"
      }
    },
    {
      "cell_type": "code",
      "source": [
        "# Example snippet\n",
        "model = tf.keras.Sequential([\n",
        "    tf.keras.layers.Dense(1, input_shape=(1,))\n",
        "])\n",
        "model.summary()\n"
      ],
      "metadata": {
        "id": "9G2Jw8VSnC6f"
      },
      "execution_count": null,
      "outputs": []
    },
    {
      "cell_type": "code",
      "source": [
        "# Your turn:\n",
        "# Add another dense layer with 5 neurons and relu activation.\n",
        "\n",
        "\n",
        "\n",
        "\n"
      ],
      "metadata": {
        "id": "C1ianPt1nKlr"
      },
      "execution_count": null,
      "outputs": []
    },
    {
      "cell_type": "markdown",
      "source": [
        "### 5️⃣ Bonus ⚡\n",
        "* Create a tensor with values from 0 to 9 (inclusive).\n",
        "\n",
        "* Reshape it to shape (2, 5).\n",
        "\n",
        "* Pint the reshaped tensor."
      ],
      "metadata": {
        "id": "GpOxR_RFnMt_"
      }
    },
    {
      "cell_type": "code",
      "source": [
        "# To do\n",
        "\n",
        "\n",
        "\n",
        "\n",
        "\n"
      ],
      "metadata": {
        "id": "caRjq7WinMLf"
      },
      "execution_count": null,
      "outputs": []
    }
  ]
}