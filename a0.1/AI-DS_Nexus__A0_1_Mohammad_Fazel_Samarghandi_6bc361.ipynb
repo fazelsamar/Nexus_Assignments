{
  "cells": [
    {
      "cell_type": "markdown",
      "metadata": {},
      "source": [
        "# 📚 Assignment 1 — Python Fundamentals\n",
        "Welcome to your first hands-on practice! This set of four mini-projects walks you through the basics every Python (and ML) developer leans on daily:\n",
        "\n",
        "1. Variable types\n",
        "\n",
        "2. Core containers\n",
        "\n",
        "3. Functions\n",
        "\n",
        "4. Classes\n",
        "\n",
        "Each part begins with quick pointers, then gives you two bite-sized tasks to code. Replace every # TODO with working Python and run your script or notebook to check the result. Happy hacking! 😊"
      ]
    },
    {
      "cell_type": "markdown",
      "metadata": {},
      "source": [
        "## 1. Variable Types 🧮\n",
        "**Quick-start notes**\n",
        "\n",
        "* Primitive types: `int`, `float`, `str`, `bool`\n",
        "\n",
        "* Use `type(obj)` to inspect an object’s type.\n",
        "\n",
        "* Casting ↔ converting: `int(\"3\")`, `str(3.14)`, `bool(0)`, etc."
      ]
    },
    {
      "cell_type": "markdown",
      "metadata": {},
      "source": [
        "### Task 1 — Celsius → Fahrenheit\n",
        "\n"
      ]
    },
    {
      "cell_type": "code",
      "execution_count": null,
      "metadata": {},
      "outputs": [
        {
          "name": "stdout",
          "output_type": "stream",
          "text": [
            "77.0\n"
          ]
        }
      ],
      "source": [
        "# 👉 a Celsius temperature (as text), convert it to float,\n",
        "#    compute Fahrenheit (°F = °C * 9/5 + 32) and print a nicely formatted line.\n",
        "# TODO: your code here\n",
        "def celsius_to_fahrenheit(c: str) -> float:\n",
        "  return float(c) * 9/5 + 32\n",
        "\n",
        "print(celsius_to_fahrenheit(\"25\")) # 77.0"
      ]
    },
    {
      "cell_type": "markdown",
      "metadata": {},
      "source": [
        "### Task 2 — Tiny Calculator\n"
      ]
    },
    {
      "cell_type": "code",
      "execution_count": null,
      "metadata": {},
      "outputs": [
        {
          "name": "stdout",
          "output_type": "stream",
          "text": [
            "Sum: 27.5\n",
            "Difference: 2.5\n",
            "Product: 187.5\n",
            "True division: 1.2\n",
            "Floor division: 1.0\n"
          ]
        }
      ],
      "source": [
        "# 👉 Store two numbers of **different types** (one int, one float),\n",
        "#    then print their sum, difference, product, true division, and floor division.\n",
        "# TODO: your code here\n",
        "from math import prod\n",
        "\n",
        "a, b = 15, 12.5\n",
        "print(f\"Sum: {sum([a, b])}\") # Sum: 27.5\n",
        "print(f\"Difference: {a - b}\") # Difference: 2.5\n",
        "print(f\"Product: {prod([a, b])}\") # Product: 187.5\n",
        "print(f\"True division: {a/b}\") # True division: 1.2\n",
        "print(f\"Floor division: {a//b}\") # Floor division: 1.0"
      ]
    },
    {
      "cell_type": "markdown",
      "metadata": {},
      "source": [
        "## 2. Containers 📦 (list, tuple, set, dict)\n",
        "**Quick-start notes**\n",
        "\n",
        "| Container | Mutable? | Ordered?                      | Typical use                       |\n",
        "| --------- | -------- | ----------------------------- | --------------------------------- |\n",
        "| `list`    | ✔        | ✔                             | Growth, indexing, slicing         |\n",
        "| `tuple`   | ✖        | ✔                             | Fixed-size records, hashable keys |\n",
        "| `set`     | ✔        | ✖                             | Deduplication, membership tests   |\n",
        "| `dict`    | ✔        | ✖ (3.7 + preserves insertion) | Key → value look-ups              |\n"
      ]
    },
    {
      "cell_type": "markdown",
      "metadata": {},
      "source": [
        "### Task 1 — Grocery Basket\n",
        "\n"
      ]
    },
    {
      "cell_type": "code",
      "execution_count": null,
      "metadata": {},
      "outputs": [
        {
          "name": "stdout",
          "output_type": "stream",
          "text": [
            "item_3\n"
          ]
        }
      ],
      "source": [
        "# Start with an empty shopping list (list).\n",
        "# 1. Append at least 4 items supplied in one line of user input (comma-separated).\n",
        "# 2. Convert the list to a *tuple* called immutable_basket.\n",
        "# 3. Print the third item using tuple indexing.\n",
        "# TODO: your code here\n",
        "shopping_list = []\n",
        "shopping_list += [f\"item_{i}\" for i in range(1, 5)] # ['item_1', 'item_2', 'item_3', 'item_4']\n",
        "immutable_basket = tuple(shopping_list)\n",
        "print(immutable_basket[2]) # item_3"
      ]
    },
    {
      "cell_type": "markdown",
      "metadata": {},
      "source": [
        "### Task 2 — Word Stats"
      ]
    },
    {
      "cell_type": "code",
      "execution_count": null,
      "metadata": {},
      "outputs": [
        {
          "name": "stdout",
          "output_type": "stream",
          "text": [
            "{'the', 'that', 'question', 'is', 'or', 'be', 'not', 'to'}\n",
            "{'the': 1, 'that': 1, 'question': 1, 'is': 1, 'or': 1, 'be': 2, 'not': 1, 'to': 2}\n"
          ]
        }
      ],
      "source": [
        "sample = \"to be or not to be that is the question\"\n",
        "\n",
        "# 1. Build a set `unique_words` containing every distinct word.\n",
        "# 2. Build a dict `word_counts` mapping each word to the number of times it appears.\n",
        "#    (Hint: .split() + a simple loop)\n",
        "# 3. Print the two structures and explain (in a comment) their main difference.\n",
        "# TODO: your code here\n",
        "words = sample.split()\n",
        "unique_words = set(words)\n",
        "word_counts = {word: words.count(word) for word in unique_words}\n",
        "print(unique_words)\n",
        "print(word_counts)\n",
        "# Explanation:\n",
        "# - The set `unique_words` holds each unique word (no duplicates).\n",
        "# - The dictionary `word_counts` maps each unique word to how many times it appears in the list.\n",
        "# - This uses dictionary comprehension: {key: value for key in iterable}"
      ]
    },
    {
      "cell_type": "markdown",
      "metadata": {},
      "source": [
        "## 3. Functions 🔧\n",
        "**Quick-start notes**\n",
        "\n",
        "* Define with `def`, return with `return`.\n",
        "\n",
        "* Parameters can have default values.\n",
        "\n",
        "* Docstrings (`\"\"\" … \"\"\"`) document behaviour."
      ]
    },
    {
      "cell_type": "markdown",
      "metadata": {},
      "source": [
        "### Task 1 — Prime Tester"
      ]
    },
    {
      "cell_type": "code",
      "execution_count": null,
      "metadata": {},
      "outputs": [
        {
          "name": "stdout",
          "output_type": "stream",
          "text": [
            "[2, 3, 5, 7]\n"
          ]
        }
      ],
      "source": [
        "def is_prime(n: int) -> bool:\n",
        "    \"\"\"\n",
        "    Return True if n is a prime number, else False.\n",
        "    0 and 1 are *not* prime.\n",
        "    \"\"\"\n",
        "    # TODO: replace pass with your implementation\n",
        "    if n <= 1:\n",
        "        return False\n",
        "    if n == 2:\n",
        "        return True\n",
        "    if n % 2 == 0:\n",
        "        return False\n",
        "    for i in range(3, int(n**0.5) + 1, 2):\n",
        "        if n % i == 0:\n",
        "            return False\n",
        "    return True\n",
        "\n",
        "\n",
        "# Quick self-check\n",
        "print([x for x in range(10) if is_prime(x)])   # Expected: [2, 3, 5, 7]\n"
      ]
    },
    {
      "cell_type": "markdown",
      "metadata": {},
      "source": [
        "### Task 2 — Repeater Greeter"
      ]
    },
    {
      "cell_type": "code",
      "execution_count": null,
      "metadata": {},
      "outputs": [
        {
          "name": "stdout",
          "output_type": "stream",
          "text": [
            "Alice \n",
            "Bob Bob Bob \n"
          ]
        }
      ],
      "source": [
        "def greet(name: str, times: int = 1) -> None:\n",
        "    \"\"\"Print `name`, capitalised, exactly `times` times on one line.\"\"\"\n",
        "    # TODO: your code here\n",
        "    print((name.capitalize() + \" \") * times)\n",
        "    # print(' '.join([name.capitalize() for _ in range(times)]))\n",
        "\n",
        "\n",
        "greet(\"alice\")          # Alice\n",
        "greet(\"bob\", times=3)   # Bob Bob Bob\n"
      ]
    },
    {
      "cell_type": "markdown",
      "metadata": {},
      "source": [
        "## 4. Classes 🏗️\n",
        "**Quick-start notes**\n",
        "\n",
        "* Create with class Name:\n",
        "\n",
        "* Special method __init__ runs on construction.\n",
        "\n",
        "* self refers to the instance; attributes live on self."
      ]
    },
    {
      "cell_type": "markdown",
      "metadata": {},
      "source": [
        "### Task 1 — Simple Counter"
      ]
    },
    {
      "cell_type": "code",
      "execution_count": null,
      "metadata": {},
      "outputs": [
        {
          "name": "stdout",
          "output_type": "stream",
          "text": [
            "5\n"
          ]
        }
      ],
      "source": [
        "class Counter:\n",
        "    \"\"\"Counts how many times `increment` is called.\"\"\"\n",
        "    # TODO:\n",
        "    # 1. In __init__, store an internal count variable starting at 0.\n",
        "    # 2. Method increment(step: int = 1) adds `step` to the count.\n",
        "    # 3. Method value() returns the current count.\n",
        "    def __init__(self) -> None:\n",
        "        self._value = 0\n",
        "\n",
        "    def increment(self, step: int = 1):\n",
        "        self._value += step\n",
        "\n",
        "    def value(self):\n",
        "        return self._value\n",
        "\n",
        "\n",
        "c = Counter()\n",
        "for _ in range(5):\n",
        "    c.increment()\n",
        "print(c.value())   # Expected: 5\n"
      ]
    },
    {
      "cell_type": "markdown",
      "metadata": {},
      "source": [
        "### Task 2 — 2-D Point with Distance"
      ]
    },
    {
      "cell_type": "code",
      "execution_count": null,
      "metadata": {},
      "outputs": [],
      "source": [
        "import math\n",
        "\n",
        "class Point:\n",
        "    \"\"\"\n",
        "    A 2-D point supporting distance calculation.\n",
        "    Usage:\n",
        "        p = Point(3, 4)\n",
        "        q = Point(0, 0)\n",
        "        print(p.distance_to(q))  # 5.0\n",
        "    \"\"\"\n",
        "    # TODO:\n",
        "    # 1. Store x and y as attributes.\n",
        "    # 2. Implement distance_to(other) using the Euclidean formula.\n",
        "    def __init__(self, x: int, y: int) -> None:\n",
        "        self.x = x\n",
        "        self.y = y\n",
        "\n",
        "    def distance_to(self, q):\n",
        "        return math.dist([self.x, self.y], [q.x, q.y])\n",
        "\n",
        "\n",
        "# Smoke test\n",
        "p, q = Point(3, 4), Point(0, 0)\n",
        "assert round(p.distance_to(q), 1) == 5.0\n"
      ]
    }
  ],
  "metadata": {
    "colab": {
      "provenance": []
    },
    "kernelspec": {
      "display_name": "Python 3",
      "name": "python3"
    },
    "language_info": {
      "name": "python"
    }
  },
  "nbformat": 4,
  "nbformat_minor": 0
}
