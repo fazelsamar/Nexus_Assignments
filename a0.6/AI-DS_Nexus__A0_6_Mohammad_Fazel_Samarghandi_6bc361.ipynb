{
  "nbformat": 4,
  "nbformat_minor": 0,
  "metadata": {
    "colab": {
      "provenance": []
    },
    "kernelspec": {
      "name": "python3",
      "display_name": "Python 3"
    },
    "language_info": {
      "name": "python"
    }
  },
  "cells": [
    {
      "cell_type": "markdown",
      "source": [
        "# 📚 Assignment 06 — Descriptive Statistics\n",
        "\n",
        "\n",
        "<p align=\"center\">📢⚠️📂  </p>\n",
        "\n",
        "<p align=\"center\"> Please name your file using the format: <code>assignmentName_nickname.py/.ipynb</code> (e.g., <code>project1_ali.py</code>) and push it to GitHub with a clear commit message.</p>\n",
        "\n",
        "<p align=\"center\"> 🚨📝🧠 </p>\n",
        "\n",
        "------------------------------------------------\n",
        "\n",
        "\n",
        "\n",
        "## 📘 Exploring Descriptive Statistics with NumPy & SciPy\n",
        "This assignment guides you through generating random data, analyzing its statistical properties, and visualizing it using plots.\n"
      ],
      "metadata": {
        "id": "Txr_tIDhHcu2"
      }
    },
    {
      "cell_type": "code",
      "execution_count": null,
      "metadata": {
        "id": "x1gatSKSHYTm"
      },
      "outputs": [],
      "source": [
        "# 📦 Import Required Libraries\n",
        "import numpy as ......\n",
        "from ........ import stats\n",
        "import matplotlib........ as plt\n",
        "\n",
        "# 🎲 Step 1: Generate Random Integer List\n",
        "np.random......(42)  # For reproducibility\n",
        "data = np.........randint(20, 40, size=30)\n",
        "print(\"Generated Data:\", data)\n"
      ]
    },
    {
      "cell_type": "markdown",
      "source": [
        "### 📊 Step 2: Central Tendency and Quantiles\n",
        "Let's compute basic statistics — mean, median, mode, and quantiles."
      ],
      "metadata": {
        "id": "cUfGpmVCHvR5"
      }
    },
    {
      "cell_type": "code",
      "source": [
        "# 📐 Central Tendency\n",
        "# mean\n",
        "mean_val = np.......(data)\n",
        "# median\n",
        "median_val = np......(data)\n",
        "# mode\n",
        "mode_val = ........mode(data, keepdims=True).mode[0]\n",
        "\n",
        "# 📏 Quantiles\n",
        "q1 = np.......(data, 0.25)\n",
        "q3 = .......quantile(data, 0.75)\n",
        "\n",
        "print(f\"Mean: {mean_val}\")\n",
        "print(f\"Median: {median_val}\")\n",
        "print(f\"Mode: {mode_val}\")\n",
        "print(f\"Q1 (25%): {q1}\")\n",
        "print(f\"Q3 (75%): {q3}\")\n"
      ],
      "metadata": {
        "id": "FkmPc2r7Htaz"
      },
      "execution_count": null,
      "outputs": []
    },
    {
      "cell_type": "markdown",
      "source": [
        "### 🧪 Step 3: Skewness and Kurtosis\n",
        "Skewness shows asymmetry, and kurtosis indicates the \"tailedness\" of the distribution."
      ],
      "metadata": {
        "id": "EBZ2KixtHztl"
      }
    },
    {
      "cell_type": "code",
      "source": [
        "# 📉 Skewness and Kurtosis\n",
        "skew_val = .........skew(data)\n",
        "kurtosis_val = .........kurtosis(data)\n",
        "\n",
        "print(f\"Skewness: {skew_val:.2f}\")\n",
        "print(f\"Kurtosis: {kurtosis_val:.2f}\")\n"
      ],
      "metadata": {
        "id": "XDwmqc3-H05I"
      },
      "execution_count": null,
      "outputs": []
    },
    {
      "cell_type": "markdown",
      "source": [
        "### 📈 Step 4: Visualization - Bar Chart and Boxplot\n",
        "Visualize the data to better understand its distribution and spread."
      ],
      "metadata": {
        "id": "FOPw0-dSH250"
      }
    },
    {
      "cell_type": "code",
      "source": [
        "# 📊 Bar Plot\n",
        "plt.figure(figsize=(12, 4))\n",
        "\n",
        "plt.subplot(1, 2, 1)\n",
        "# make a bar chart\n",
        "plt.........(range(len(data)), data)\n",
        "plt.title(\"Bar Plot of Random Data\")\n",
        "plt.xlabel(\"Index\")\n",
        "plt.ylabel(\"Value\")\n",
        "\n",
        "# 📦 Boxplot\n",
        "plt.subplot(1, 2, 2)\n",
        "# make a box plot\n",
        "plt.........(data, vert=False)\n",
        "plt.title(\"Boxplot of Random Data\")\n",
        "plt.xlabel(\"Value\")\n",
        "\n",
        "plt.tight_layout()\n",
        "plt.show()\n"
      ],
      "metadata": {
        "id": "Zfx5s6xLH1y8"
      },
      "execution_count": null,
      "outputs": []
    }
  ]
}