{
  "nbformat": 4,
  "nbformat_minor": 0,
  "metadata": {
    "colab": {
      "provenance": []
    },
    "kernelspec": {
      "name": "python3",
      "display_name": "Python 3"
    },
    "language_info": {
      "name": "python"
    }
  },
  "cells": [
    {
      "cell_type": "markdown",
      "source": [
        "# 📓 Assignment 5 — Probability\n",
        "\n",
        "\n",
        "<p align=\"center\">📢⚠️📂  </p>\n",
        "\n",
        "<p align=\"center\"> Please name your file using the format: <code>assignmentName_nickname.py/.ipynb</code> (e.g., <code>project1_ali.py</code>) and push it to GitHub with a clear commit message.</p>\n",
        "\n",
        "<p align=\"center\"> 🚨📝🧠 </p>\n",
        "\n",
        "------------------------------------------------\n",
        "\n",
        "\n",
        "## 🎲 Counting & Probability with Cards in Python 🃏\n",
        "Learn factorials, combinations, and (conditional) probability — all in one simple card game simulation using only math and random modules."
      ],
      "metadata": {
        "id": "tacMQNsG2g5S"
      }
    },
    {
      "cell_type": "markdown",
      "source": [
        "## 🧮 PART 1: Factorial & Combinations\n",
        "\n"
      ],
      "metadata": {
        "id": "_cA_dWDJ2vfr"
      }
    },
    {
      "cell_type": "code",
      "execution_count": null,
      "metadata": {
        "id": "aIxoWeNt2ao0"
      },
      "outputs": [],
      "source": [
        "# ---- FACTORIAL & COMBINATIONS ----\n",
        "\n",
        "import math\n",
        "print(\"6! =\", math.______(6))\n",
        "print(\"Combinations (6 choose 3):\", math.______(______, ______))\n"
      ]
    },
    {
      "cell_type": "markdown",
      "source": [
        "## 🃏 PART 2: Simulating a Deck of Cards\n",
        "\n"
      ],
      "metadata": {
        "id": "pzy2xD3H3D3o"
      }
    },
    {
      "cell_type": "code",
      "source": [
        "# ---- PROBABILITY IN A DECK ----\n",
        "\n",
        "import random\n",
        "\n",
        "deck = [f\"{rank} of {suit}\" for ______ in ['Hearts', 'Spades', 'Diamonds', 'Clubs']\n",
        "        for rank in ______(1, 14)]\n",
        "\n",
        "# Draw 2 random cards\n",
        "\n",
        "draws = random.______(deck, 2)\n",
        "print(\"\\nDrawn cards:\", draws)\n"
      ],
      "metadata": {
        "id": "eUvZhzYB2x4L"
      },
      "execution_count": null,
      "outputs": []
    },
    {
      "cell_type": "markdown",
      "source": [
        "## 📊 PART 3: Basic Probability"
      ],
      "metadata": {
        "id": "OidRYf9q3Mwj"
      }
    },
    {
      "cell_type": "code",
      "source": [
        "# PROBABILITY: What’s the chance that both cards are Hearts?\n",
        "\n",
        "hearts = [card for ______ in deck if \"Hearts\" in card]\n",
        "prob_both_hearts = math.comb(______, 2) / math.comb(______, 2)\n",
        "print(f\"Probability both cards are Hearts: {prob_both_hearts:.4f}\")\n"
      ],
      "metadata": {
        "id": "Ok5d99Ns3Oa7"
      },
      "execution_count": null,
      "outputs": []
    },
    {
      "cell_type": "markdown",
      "source": [
        "## 🔁 PART 4: Conditional Probability"
      ],
      "metadata": {
        "id": "NMIA7c313Yum"
      }
    },
    {
      "cell_type": "code",
      "source": [
        "# ---- CONDITIONAL PROBABILITY ----\n",
        "# P(A and B) / P(B): Probability second card is Heart given first was Heart\n",
        "# A = both are hearts, B = first is heart\n",
        "\n",
        "p_a_and_b = math.comb(______, 1) / math.comb(______, 1) # after one heart is drawn\n",
        "p_b = 13 / 52\n",
        "p_a_given_b = p_a_and_b / p_b\n",
        "print(f\"Conditional probability 2nd card is Heart given 1st is Heart: {p_a_given_b:.4f}\")\n"
      ],
      "metadata": {
        "id": "IZeCH8pw3aZX"
      },
      "execution_count": null,
      "outputs": []
    }
  ]
}