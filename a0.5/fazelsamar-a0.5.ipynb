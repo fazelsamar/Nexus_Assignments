{
 "cells": [
  {
   "cell_type": "markdown",
   "id": "17839bbb",
   "metadata": {},
   "source": [
    "# 📓 Assignment 5 — Probability\n",
    "\n",
    "\n",
    "<p align=\"center\">📢⚠️📂  </p>\n",
    "\n",
    "<p align=\"center\"> Please name your file using the format: <code>assignmentName_nickname.py/.ipynb</code> (e.g., <code>project1_ali.py</code>) and push it to GitHub with a clear commit message.</p>\n",
    "\n",
    "<p align=\"center\"> 🚨📝🧠 </p>\n",
    "\n",
    "------------------------------------------------\n",
    "\n",
    "\n",
    "## 🎲 Counting & Probability with Cards in Python 🃏\n",
    "Learn factorials, combinations, and (conditional) probability — all in one simple card game simulation using only math and random modules."
   ]
  },
  {
   "cell_type": "markdown",
   "id": "a1781d50",
   "metadata": {},
   "source": [
    "## 🧮 PART 1: Factorial & Combinations\n",
    "\n"
   ]
  },
  {
   "cell_type": "code",
   "execution_count": null,
   "id": "3a48ee01",
   "metadata": {},
   "outputs": [
    {
     "name": "stdout",
     "output_type": "stream",
     "text": [
      "6! = 720\n",
      "Combinations (6 choose 3): 20\n"
     ]
    }
   ],
   "source": [
    "# ---- FACTORIAL & COMBINATIONS ----\n",
    "\n",
    "import math\n",
    "print(\"6! =\", math.factorial(6))\n",
    "print(\"Combinations (6 choose 3):\", math.comb(6, 3))\n"
   ]
  },
  {
   "cell_type": "markdown",
   "id": "37acc9bc",
   "metadata": {},
   "source": [
    "## 🃏 PART 2: Simulating a Deck of Cards\n",
    "\n"
   ]
  },
  {
   "cell_type": "code",
   "execution_count": null,
   "id": "cb40538b",
   "metadata": {},
   "outputs": [
    {
     "name": "stdout",
     "output_type": "stream",
     "text": [
      "\n",
      "Drawn cards: ['6 of Clubs', '9 of Hearts']\n"
     ]
    }
   ],
   "source": [
    "# ---- PROBABILITY IN A DECK ----\n",
    "\n",
    "import random\n",
    "\n",
    "deck = [f\"{rank} of {suit}\" for suit in ['Hearts', 'Spades', 'Diamonds', 'Clubs']\n",
    "        for rank in range(1, 14)]\n",
    "\n",
    "# Draw 2 random cards\n",
    "\n",
    "draws = random.sample(deck, 2)\n",
    "print(\"\\nDrawn cards:\", draws)"
   ]
  },
  {
   "cell_type": "markdown",
   "id": "88dc2a6e",
   "metadata": {},
   "source": [
    "## 📊 PART 3: Basic Probability"
   ]
  },
  {
   "cell_type": "code",
   "execution_count": null,
   "id": "b24f8bcc",
   "metadata": {},
   "outputs": [
    {
     "name": "stdout",
     "output_type": "stream",
     "text": [
      "Probability both cards are Hearts: 0.0588\n"
     ]
    }
   ],
   "source": [
    "# PROBABILITY: What’s the chance that both cards are Hearts?\n",
    "\n",
    "hearts = [card for card in deck if \"Hearts\" in card]\n",
    "prob_both_hearts = math.comb(len(hearts), 2) / math.comb(len(deck), 2)\n",
    "print(f\"Probability both cards are Hearts: {prob_both_hearts:.4f}\")"
   ]
  },
  {
   "cell_type": "markdown",
   "id": "3059a9d1",
   "metadata": {},
   "source": [
    "## 🔁 PART 4: Conditional Probability"
   ]
  },
  {
   "cell_type": "code",
   "execution_count": null,
   "id": "972683a1",
   "metadata": {},
   "outputs": [
    {
     "name": "stdout",
     "output_type": "stream",
     "text": [
      "Conditional probability 2nd card is Heart given 1st is Heart: 0.2353\n"
     ]
    }
   ],
   "source": [
    "# ---- CONDITIONAL PROBABILITY ----\n",
    "# P(A and B) / P(B): Probability second card is Heart given first was Heart\n",
    "# A = both are hearts, B = first is heart\n",
    "\n",
    "p_a_and_b = math.comb(12, 1) / math.comb(51, 1) # probability of drawing a second heart given the first was a heart\n",
    "p_b = 13 / 52 # probability of drawing a heart first\n",
    "p_a_given_b = p_a_and_b # simplified as P(A and B) / P(B) is equivalent to P(A|B) where A is drawing a second heart from the remaining 51 cards after drawing one heart.\n",
    "print(f\"Conditional probability 2nd card is Heart given 1st is Heart: {p_a_given_b:.4f}\")"
   ]
  }
 ],
 "metadata": {
  "language_info": {
   "name": "python"
  }
 },
 "nbformat": 4,
 "nbformat_minor": 5
}
