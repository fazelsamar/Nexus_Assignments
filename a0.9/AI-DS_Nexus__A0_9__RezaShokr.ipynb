{
  "nbformat": 4,
  "nbformat_minor": 0,
  "metadata": {
    "colab": {
      "provenance": []
    },
    "kernelspec": {
      "name": "python3",
      "display_name": "Python 3"
    },
    "language_info": {
      "name": "python"
    }
  },
  "cells": [
    {
      "cell_type": "markdown",
      "source": [
        "# 🏗 Assignment: Object-Oriented Programming Basics\n",
        "\n",
        "\n",
        "<p align=\"center\">📢⚠️📂  </p>\n",
        "\n",
        "<p align=\"center\"> Please name your file using the format: <code>assignmentName_nickname.py/.ipynb</code> (e.g., <code>project1_ali.py</code>) and push it to GitHub with a clear commit message.</p>\n",
        "\n",
        "<p align=\"center\"> 🚨📝🧠 </p>\n",
        "\n",
        "------------------------------------------------\n"
      ],
      "metadata": {
        "id": "pmXWXQskqQf7"
      }
    },
    {
      "cell_type": "markdown",
      "source": [
        "## 🎯 Goal\n",
        "This assignment checks your understanding of classes, objects, attributes, and methods using Python."
      ],
      "metadata": {
        "id": "mYX-Yr0YqWTv"
      }
    },
    {
      "cell_type": "markdown",
      "source": [
        "### 1️⃣ Class and Object Creation\n",
        "**Task:**\n",
        "\n",
        "* Define a class Car with attributes brand and year.\n",
        "\n",
        "* Create an object car1 of class Car with values (\"Toyota\", 2020) and print them."
      ],
      "metadata": {
        "id": "uxnkvADeqX6P"
      }
    },
    {
      "cell_type": "code",
      "execution_count": null,
      "metadata": {
        "id": "HF7h_UxJqNLb"
      },
      "outputs": [],
      "source": [
        "# Example snippet\n",
        "class Car:\n",
        "    def __init__(self, brand, year):\n",
        "        self.brand = brand\n",
        "        self.year = year\n",
        "\n",
        "car1 = Car(\"Toyota\", 2020)\n",
        "print(car1.brand, car1.year)\n"
      ]
    },
    {
      "cell_type": "code",
      "source": [
        "#Your turn:\n",
        "# Create another object car2 with brand \"Tesla\" and year 2023.\n",
        "\n",
        "\n",
        "\n",
        "\n"
      ],
      "metadata": {
        "id": "5frI0xqrqcz2"
      },
      "execution_count": null,
      "outputs": []
    },
    {
      "cell_type": "markdown",
      "source": [
        "### 2️⃣ Add Methods 🛠\n",
        "**Task:**\n",
        "Add a method info() to Car that prints \"Brand: <brand>, Year: <year>\"."
      ],
      "metadata": {
        "id": "1WvafJpAqgkt"
      }
    },
    {
      "cell_type": "code",
      "source": [
        "# Example snippet\n",
        "class Car:\n",
        "    def __init__(self, brand, year):\n",
        "        self.brand = brand\n",
        "        self.year = year\n",
        "\n",
        "    def info(self):\n",
        "        print(f\"Brand: {self.brand}, Year: {self.year}\")\n",
        "\n",
        "car1 = Car(\"Toyota\", 2020)\n",
        "car1.info()\n"
      ],
      "metadata": {
        "id": "AJM4pVrzqfJP"
      },
      "execution_count": null,
      "outputs": []
    },
    {
      "cell_type": "code",
      "source": [
        "# Your turn:\n",
        "# Call info() for car2.\n",
        "\n",
        "\n",
        "\n"
      ],
      "metadata": {
        "id": "qwuFw0CiqkM8"
      },
      "execution_count": null,
      "outputs": []
    },
    {
      "cell_type": "markdown",
      "source": [
        "### 3️⃣ Class vs Instance Attributes 📦\n",
        "**Task:**\n",
        "\n",
        "* Add a class attribute wheels = 4 to Car.\n",
        "\n",
        "* Print car1.wheels and car2.wheels."
      ],
      "metadata": {
        "id": "AOwBtvr0qosK"
      }
    },
    {
      "cell_type": "code",
      "source": [
        "# To do\n",
        "\n",
        "\n",
        "\n",
        "\n"
      ],
      "metadata": {
        "id": "rPXvKwtsqm0C"
      },
      "execution_count": null,
      "outputs": []
    },
    {
      "cell_type": "markdown",
      "source": [
        "### 4️⃣ Inheritance 👑\n",
        "**Task:**\n",
        "\n",
        "* Create a subclass ElectricCar inheriting from Car.\n",
        "* Add a new attribute battery (e.g., \"80 kWh\") and a method battery_info() that prints \"Battery: <battery>\"."
      ],
      "metadata": {
        "id": "NLoiaaeuquwg"
      }
    },
    {
      "cell_type": "code",
      "source": [
        "# Example snippet\n",
        "class ElectricCar(Car):\n",
        "    def __init__(self, brand, year, battery):\n",
        "        ________.__init__(brand, year)\n",
        "        self.battery = battery\n",
        "\n",
        "    def battery_info(self):\n",
        "        print(f\"Battery: {________.battery}\")\n",
        "\n",
        "e_car = ElectricCar(\"Tesla\", 2023, \"80 kWh\")\n",
        "e_car.info()\n",
        "e_car.battery_info()\n"
      ],
      "metadata": {
        "id": "e_sS1YdIqtk_"
      },
      "execution_count": null,
      "outputs": []
    },
    {
      "cell_type": "markdown",
      "source": [
        "### 5️⃣ Bonus ⚡\n",
        "* Add a __str__ method to Car to return a string like: \"Car(brand=Toyota, year=2020)\"."
      ],
      "metadata": {
        "id": "wC0OIrRMq7jv"
      }
    },
    {
      "cell_type": "code",
      "source": [
        "# To do\n",
        "\n",
        "\n",
        "\n"
      ],
      "metadata": {
        "id": "cAfBWxrlrA2t"
      },
      "execution_count": null,
      "outputs": []
    }
  ]
}