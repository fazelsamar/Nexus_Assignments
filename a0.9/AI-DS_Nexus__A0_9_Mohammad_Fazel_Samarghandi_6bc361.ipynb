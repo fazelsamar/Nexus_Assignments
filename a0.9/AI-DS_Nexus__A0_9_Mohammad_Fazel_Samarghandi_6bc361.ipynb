{
  "cells": [
    {
      "cell_type": "markdown",
      "metadata": {},
      "source": [
        "# 🏗 Assignment: Object-Oriented Programming Basics\n",
        "\n",
        "\n",
        "<p align=\"center\">📢⚠️📂  </p>\n",
        "\n",
        "<p align=\"center\"> Please name your file using the format: <code>assignmentName_nickname.py/.ipynb</code> (e.g., <code>project1_ali.py</code>) and push it to GitHub with a clear commit message.</p>\n",
        "\n",
        "<p align=\"center\"> 🚨📝🧠 </p>\n",
        "\n",
        "------------------------------------------------\n"
      ]
    },
    {
      "cell_type": "markdown",
      "metadata": {},
      "source": [
        "## 🎯 Goal\n",
        "This assignment checks your understanding of classes, objects, attributes, and methods using Python."
      ]
    },
    {
      "cell_type": "markdown",
      "metadata": {},
      "source": [
        "### 1️⃣ Class and Object Creation\n",
        "**Task:**\n",
        "\n",
        "* Define a class Car with attributes brand and year.\n",
        "\n",
        "* Create an object car1 of class Car with values (\"Toyota\", 2020) and print them."
      ]
    },
    {
      "cell_type": "code",
      "execution_count": null,
      "metadata": {},
      "outputs": [
        {
          "name": "stdout",
          "output_type": "stream",
          "text": [
            "Toyota 2020\n"
          ]
        }
      ],
      "source": [
        "# Example snippet\n",
        "class Car:\n",
        "    wheels = 4 # Class attribute\n",
        "\n",
        "    def __init__(self, brand, year):\n",
        "        self.brand = brand\n",
        "        self.year = year\n",
        "\n",
        "car1 = Car(\"Toyota\", 2020)\n",
        "print(car1.brand, car1.year)"
      ]
    },
    {
      "cell_type": "code",
      "execution_count": null,
      "metadata": {},
      "outputs": [],
      "source": [
        "#Your turn:\n",
        "# Create another object car2 with brand \"Tesla\" and year 2023.\n",
        "\n",
        "class Car:\n",
        "    wheels = 4 # Class attribute\n",
        "    def __init__(self, brand, year):\n",
        "        self.brand = brand\n",
        "        self.year = year\n",
        "\n",
        "    def info(self):\n",
        "        print(f\"Brand: {self.brand}, Year: {self.year}\")\n",
        "\n",
        "car2 = Car(\"Tesla\", 2023)"
      ]
    },
    {
      "cell_type": "markdown",
      "metadata": {},
      "source": [
        "### 2️⃣ Add Methods 🛠\n",
        "**Task:**\n",
        "Add a method info() to Car that prints \"Brand: <brand>, Year: <year>\"."
      ]
    },
    {
      "cell_type": "code",
      "execution_count": null,
      "metadata": {},
      "outputs": [
        {
          "name": "stdout",
          "output_type": "stream",
          "text": [
            "Brand: Toyota, Year: 2020\n"
          ]
        }
      ],
      "source": [
        "# Example snippet\n",
        "class Car:\n",
        "    wheels = 4 # Class attribute\n",
        "    def __init__(self, brand, year):\n",
        "        self.brand = brand\n",
        "        self.year = year\n",
        "\n",
        "    def info(self):\n",
        "        print(f\"Brand: {self.brand}, Year: {self.year}\")\n",
        "\n",
        "    def __str__(self):\n",
        "        return f\"Car(brand={self.brand}, year={self.year})\"\n",
        "\n",
        "car1 = Car(\"Toyota\", 2020)\n",
        "car1.info()"
      ]
    },
    {
      "cell_type": "code",
      "execution_count": null,
      "metadata": {},
      "outputs": [
        {
          "name": "stdout",
          "output_type": "stream",
          "text": [
            "Brand: Tesla, Year: 2023\n"
          ]
        }
      ],
      "source": [
        "# Your turn:\n",
        "# Call info() for car2.\n",
        "\n",
        "car2.info()"
      ]
    },
    {
      "cell_type": "markdown",
      "metadata": {},
      "source": [
        "### 3️⃣ Class vs Instance Attributes 📦\n",
        "**Task:**\n",
        "\n",
        "* Add a class attribute wheels = 4 to Car.\n",
        "\n",
        "* Print car1.wheels and car2.wheels."
      ]
    },
    {
      "cell_type": "code",
      "execution_count": null,
      "metadata": {},
      "outputs": [
        {
          "name": "stdout",
          "output_type": "stream",
          "text": [
            "4\n",
            "4\n"
          ]
        }
      ],
      "source": [
        "# To do\n",
        "\n",
        "# Add a class attribute wheels = 4 to Car.\n",
        "# Print car1.wheels and car2.wheels.\n",
        "print(car1.wheels)\n",
        "print(car2.wheels)"
      ]
    },
    {
      "cell_type": "markdown",
      "metadata": {},
      "source": [
        "### 4️⃣ Inheritance 👑\n",
        "**Task:**\n",
        "\n",
        "* Create a subclass ElectricCar inheriting from Car.\n",
        "* Add a new attribute battery (e.g., \"80 kWh\") and a method battery_info() that prints \"Battery: <battery>\"."
      ]
    },
    {
      "cell_type": "code",
      "execution_count": null,
      "metadata": {},
      "outputs": [
        {
          "name": "stdout",
          "output_type": "stream",
          "text": [
            "Brand: Tesla, Year: 2023\n",
            "Battery: 80 kWh\n"
          ]
        }
      ],
      "source": [
        "# Example snippet\n",
        "class ElectricCar(Car):\n",
        "    def __init__(self, brand, year, battery):\n",
        "        super().__init__(brand, year)\n",
        "        self.battery = battery\n",
        "\n",
        "    def battery_info(self):\n",
        "        print(f\"Battery: {self.battery}\")\n",
        "\n",
        "e_car = ElectricCar(\"Tesla\", 2023, \"80 kWh\")\n",
        "e_car.info()\n",
        "e_car.battery_info()"
      ]
    },
    {
      "cell_type": "markdown",
      "metadata": {},
      "source": [
        "### 5️⃣ Bonus ⚡\n",
        "* Add a __str__ method to Car to return a string like: \"Car(brand=Toyota, year=2020)\"."
      ]
    },
    {
      "cell_type": "code",
      "execution_count": null,
      "metadata": {},
      "outputs": [
        {
          "name": "stdout",
          "output_type": "stream",
          "text": [
            "Car(brand=Toyota, year=2020)\n",
            "<__main__.Car object at 0x7cff3b0c1cd0>\n"
          ]
        }
      ],
      "source": [
        "# To do\n",
        "\n",
        "print(car1)\n",
        "print(car2)"
      ]
    }
  ],
  "metadata": {
    "colab": {
      "provenance": []
    },
    "kernelspec": {
      "display_name": "Python 3",
      "name": "python3"
    },
    "language_info": {
      "name": "python"
    }
  },
  "nbformat": 4,
  "nbformat_minor": 0
}
