{
  "cells": [
    {
      "cell_type": "markdown",
      "metadata": {},
      "source": [
        "# 📓 Assignment 4 — Linear Algebra Fundamentals\n",
        "\n",
        "*Vectors & Matrices for Everyday Coding*\n",
        "\n"
      ]
    },
    {
      "cell_type": "markdown",
      "metadata": {},
      "source": [
        "## Welcome back, intrepid coder! 🚀\n",
        "In this notebook-styled brief you’ll move from single-direction vectors to multi-direction matrices—core tools behind graphics, robotics, optimisation and (of course) machine-learning. Each mini-section mixes quick notes, a tiny real-world scenario, and hands-on # TODO code shaped for beginners.\n"
      ]
    },
    {
      "cell_type": "markdown",
      "metadata": {},
      "source": [
        "## 🧭 Vectors 101\n",
        "\n",
        "| Concept             | Quick reminder                                  |\n",
        "|---------------------|--------------------------------------------------|\n",
        "| Representation      | 1-D NumPy array — `np.array([x, y, z])`         |\n",
        "| Length (norm)       | `np.linalg.norm(v)`                             |\n",
        "| Dot / inner product | `v.dot(w)` or `np.inner(v, w)`                  |\n",
        "| Unit vector         | `v / np.linalg.norm(v)`                         |\n"
      ]
    },
    {
      "cell_type": "code",
      "execution_count": null,
      "metadata": {},
      "outputs": [
        {
          "name": "stdout",
          "output_type": "stream",
          "text": [
            "1696.6982642768278\n",
            "[[[[     30      36      42]\n",
            "   [    300     360     420]\n",
            "   [   3000    3600    4200]]\n",
            "\n",
            "  [[     66      81      96]\n",
            "   [    660     810     960]\n",
            "   [   6600    8100    9600]]\n",
            "\n",
            "  [[    102     126     150]\n",
            "   [   1020    1260    1500]\n",
            "   [  10200   12600   15000]]]\n",
            "\n",
            "\n",
            " [[[    300     360     420]\n",
            "   [   3000    3600    4200]\n",
            "   [  30000   36000   42000]]\n",
            "\n",
            "  [[    660     810     960]\n",
            "   [   6600    8100    9600]\n",
            "   [  66000   81000   96000]]\n",
            "\n",
            "  [[   1020    1260    1500]\n",
            "   [  10200   12600   15000]\n",
            "   [ 102000  126000  150000]]]\n",
            "\n",
            "\n",
            " [[[   3000    3600    4200]\n",
            "   [  30000   36000   42000]\n",
            "   [ 300000  360000  420000]]\n",
            "\n",
            "  [[   6600    8100    9600]\n",
            "   [  66000   81000   96000]\n",
            "   [ 660000  810000  960000]]\n",
            "\n",
            "  [[  10200   12600   15000]\n",
            "   [ 102000  126000  150000]\n",
            "   [1020000 1260000 1500000]]]]\n"
          ]
        }
      ],
      "source": [
        "# Run once per session\n",
        "import numpy as np\n",
        "\n",
        "# TODO 1: create a 3-D vector named v\n",
        "v = np.array([\n",
        "    [[1,2,3],    [4,5,6],    [7,8,9]],\n",
        "    [[10,20,30], [40,50,60], [70,80,90]],\n",
        "    [[100,200,300], [400,500,600], [700,800,900]],\n",
        "])\n",
        "# TODO 2: print its length\n",
        "print(np.linalg.norm(v))\n",
        "# TODO 3: build a second vector w and output the dot product\n",
        "w = np.array([\n",
        "    [[1,2,3],    [4,5,6],    [7,8,9]],\n",
        "    [[10,20,30], [40,50,60], [70,80,90]],\n",
        "    [[100,200,300], [400,500,600], [700,800,900]],\n",
        "])\n",
        "print(np.dot(v, w))"
      ]
    },
    {
      "cell_type": "markdown",
      "metadata": {},
      "source": [
        "### 🚁 Practical Scenario — “Drone hop”\n",
        "A mini-drone lifts off at (2 m, 1 m) and lands at (7 m, 4 m).\n",
        "Calculate its displacement vector, travel distance, and orientation along the x-axis."
      ]
    },
    {
      "cell_type": "code",
      "execution_count": null,
      "metadata": {},
      "outputs": [
        {
          "name": "stdout",
          "output_type": "stream",
          "text": [
            "Displacement: [5 3]\n",
            "Distance: 5.830951894845301\n",
            "Unit direction: [0.85749293 0.51449576]\n",
            "Dot-product with x-axis: 5\n"
          ]
        }
      ],
      "source": [
        "p_start = np.array([2, 1])\n",
        "p_end   = np.array([7, 4])\n",
        "\n",
        "# displacement\n",
        "d = p_end - p_start          # ➡️ vector from start to end\n",
        "dist = np.linalg.norm(d)     # 🏁 distance travelled\n",
        "unit = d / dist              # ↗️ unit direction\n",
        "dot_x = d.dot(np.array([1, 0]))  # projection on x-axis\n",
        "\n",
        "print(\"Displacement:\", d)\n",
        "print(\"Distance:\", dist)\n",
        "print(\"Unit direction:\", unit)\n",
        "print(\"Dot-product with x-axis:\", dot_x)\n"
      ]
    },
    {
      "cell_type": "markdown",
      "metadata": {},
      "source": [
        "## 🔢 Matrices 101\n",
        "\n",
        "| Operation              | NumPy one-liner                                  |\n",
        "|------------------------|--------------------------------------------------|\n",
        "| Transpose              | `A.T`                                            |\n",
        "| Determinant            | `np.linalg.det(A)`                               |\n",
        "| Inverse                | `np.linalg.inv(A)` (works only if `det(A) ≠ 0`)  |\n",
        "| Matrix-vector multiply | `A @ v`                                          |\n",
        "| Matrix-matrix multiply | `A @ B`                                          |\n"
      ]
    },
    {
      "cell_type": "code",
      "execution_count": null,
      "metadata": {},
      "outputs": [
        {
          "name": "stdout",
          "output_type": "stream",
          "text": [
            "-2.0000000000000004\n",
            "[[-2.   1. ]\n",
            " [ 1.5 -0.5]]\n"
          ]
        }
      ],
      "source": [
        "# TODO 4: build a 2×2 matrix A\n",
        "A = np.array([\n",
        "    [1, 2],\n",
        "    [3, 4]\n",
        "])\n",
        "# TODO 5: print its determinant\n",
        "print(np.linalg.det(A))\n",
        "# TODO 6: if invertible, compute and print A_inv\n",
        "print(np.linalg.inv(A))\n"
      ]
    },
    {
      "cell_type": "markdown",
      "metadata": {},
      "source": [
        "### 🎯 Practical Scenario — “Rotate that hop”\n",
        "Rotate the drone’s displacement vector 30° counter-clockwise, then verify that the inverse rotation brings it back."
      ]
    },
    {
      "cell_type": "code",
      "execution_count": null,
      "metadata": {},
      "outputs": [
        {
          "name": "stdout",
          "output_type": "stream",
          "text": [
            "Rotation matrix determinant: 1.0\n",
            "Rotated vector: [2.83012702 5.09807621]\n",
            "Back-rotated equals original? True\n"
          ]
        }
      ],
      "source": [
        "theta = np.deg2rad(30)          # 🔄 convert degrees to radians\n",
        "R = np.array([[np.cos(theta), -np.sin(theta)],\n",
        "              [np.sin(theta),  np.cos(theta)]])\n",
        "\n",
        "det_R = np.linalg.det(R)        # should be 1.0 (pure rotation)\n",
        "\n",
        "d_rot  = R @ d                  # rotated displacement\n",
        "d_back = np.linalg.inv(R) @ d_rot\n",
        "\n",
        "print(\"Rotation matrix determinant:\", det_R)\n",
        "print(\"Rotated vector:\", d_rot)\n",
        "print(\"Back-rotated equals original?\", np.allclose(d_back, d))\n"
      ]
    }
  ],
  "metadata": {
    "colab": {
      "provenance": []
    },
    "kernelspec": {
      "display_name": "Python 3",
      "name": "python3"
    },
    "language_info": {
      "name": "python"
    }
  },
  "nbformat": 4,
  "nbformat_minor": 0
}
