{
  "nbformat": 4,
  "nbformat_minor": 0,
  "metadata": {
    "colab": {
      "provenance": []
    },
    "kernelspec": {
      "name": "python3",
      "display_name": "Python 3"
    },
    "language_info": {
      "name": "python"
    }
  },
  "cells": [
    {
      "cell_type": "markdown",
      "source": [
        "# 🔥 Assignment: Exploring PyTorch\n",
        "\n",
        "<p align=\"center\">📢⚠️📂  </p>\n",
        "\n",
        "<p align=\"center\"> Please name your file using the format: <code>assignmentName_nickname.py/.ipynb</code> (e.g., <code>project1_ali.py</code>) and push it to GitHub with a clear commit message.</p>\n",
        "\n",
        "<p align=\"center\"> 🚨📝🧠 </p>\n",
        "\n",
        "------------------------------------------------\n",
        "\n"
      ],
      "metadata": {
        "id": "dbICYwLGo5Av"
      }
    },
    {
      "cell_type": "markdown",
      "source": [
        "## 🎯 Goal\n",
        "This assignment evaluates your basic skills in using PyTorch, focusing on tensors, autograd, and a small training loop.\n",
        "\n"
      ],
      "metadata": {
        "id": "b8h5DExTo6K5"
      }
    },
    {
      "cell_type": "markdown",
      "source": [
        "### 1️⃣ Setup and Basics\n",
        "**Task:**\n",
        "\n",
        "* Install PyTorch and check its version.\n",
        "\n",
        "* Create a 2D tensor and print it."
      ],
      "metadata": {
        "id": "euolCT3oo8dR"
      }
    },
    {
      "cell_type": "code",
      "execution_count": null,
      "metadata": {
        "id": "9AADPzP6o1iY"
      },
      "outputs": [],
      "source": [
        "import torch\n",
        "\n",
        "print(\"PyTorch version:\", torch.__version__)\n",
        "x = torch.tensor([[1., 2.], [3., 4.]])\n",
        "print(\"Tensor x:\\n\", x)\n"
      ]
    },
    {
      "cell_type": "code",
      "source": [
        "# Your turn:\n",
        "# Create another tensor y of the same shape with values [[5, 6], [7, 8]].\n",
        "\n",
        "\n",
        "\n",
        "\n"
      ],
      "metadata": {
        "id": "T5mCQMYFpBJm"
      },
      "execution_count": null,
      "outputs": []
    },
    {
      "cell_type": "markdown",
      "source": [
        "### 2️⃣ Tensor Operations 🧮\n",
        "**Task:** Perform addition and matrix multiplication."
      ],
      "metadata": {
        "id": "7yRBms7npEUe"
      }
    },
    {
      "cell_type": "code",
      "source": [
        "z = x + y\n",
        "print(\"Addition:\\n\", z)\n",
        "\n",
        "mat_mul = x @ y\n",
        "print(\"Matrix Multiplication:\\n\", mat_mul)\n"
      ],
      "metadata": {
        "id": "nGRNryC4pDv2"
      },
      "execution_count": null,
      "outputs": []
    },
    {
      "cell_type": "code",
      "source": [
        "# Your turn:\n",
        "# Perform element-wise multiplication (x * y) and print the result.\n",
        "\n",
        "\n",
        "\n",
        "\n"
      ],
      "metadata": {
        "id": "tf64nP2dpIod"
      },
      "execution_count": null,
      "outputs": []
    },
    {
      "cell_type": "markdown",
      "source": [
        "### 3️⃣ Autograd and Gradients ⚙️\n",
        "**Task:** Enable gradient tracking and compute derivatives."
      ],
      "metadata": {
        "id": "h3dABundpMYU"
      }
    },
    {
      "cell_type": "code",
      "source": [
        "a = torch.tensor(3.0, requires_grad=True)\n",
        "b = (a ** 2) + 2 * a + 1\n",
        "b.backward()\n",
        "print(\"Gradient of b wrt a:\", a.grad)\n"
      ],
      "metadata": {
        "id": "igtPKY90pLGt"
      },
      "execution_count": null,
      "outputs": []
    },
    {
      "cell_type": "code",
      "source": [
        "# Your turn:\n",
        "# Create a tensor p with value 2.0 (requires_grad=True) and compute the gradient of q = p^3 + 4p.\n",
        "\n",
        "\n",
        "\n"
      ],
      "metadata": {
        "id": "bLceqHHvpOwt"
      },
      "execution_count": null,
      "outputs": []
    },
    {
      "cell_type": "markdown",
      "source": [
        "### 4️⃣ Random Tensors 🎲\n",
        "**Task:** Generate a random tensor of shape (2, 3) and find its max and min."
      ],
      "metadata": {
        "id": "jytRN17EpVbM"
      }
    },
    {
      "cell_type": "code",
      "source": [
        "rand_tensor = torch._____((2, 3))\n",
        "print(\"Random Tensor:\\n\", rand_tensor)\n",
        "print(\"Max:\", torch._____(rand_tensor))\n",
        "print(\"Min:\", torch._____(rand_tensor))\n"
      ],
      "metadata": {
        "id": "fb7fv-E_pS6e"
      },
      "execution_count": null,
      "outputs": []
    },
    {
      "cell_type": "markdown",
      "source": [
        "### 5️⃣ Mini Training Loop 🤖\n",
        "**Task:** Train a simple linear model y = wx + b using gradient descent."
      ],
      "metadata": {
        "id": "bhSClXespjvT"
      }
    },
    {
      "cell_type": "code",
      "source": [
        "# Data\n",
        "x_train = torch._____([[1.0], [2.0], [3.0]])\n",
        "y_train = torch.tensor([[2.0], [4.0], [6.0]])\n",
        "\n",
        "# Model\n",
        "w = torch.randn(1, requires_grad=True)\n",
        "b = torch._____(1, requires_grad=True)\n",
        "\n",
        "# Training\n",
        "learning_rate = 0.01\n",
        "for epoch in _____(100):\n",
        "    y_pred = w * x_train + b\n",
        "    loss = torch._____((y_pred - y_train) ** 2)\n",
        "    loss._____()\n",
        "\n",
        "    # Update\n",
        "    with torch.no_grad():\n",
        "        w -= learning_rate * w.grad\n",
        "        b -= learning_rate * b.grad\n",
        "        w.grad.zero_()\n",
        "        b.grad.zero_()\n",
        "\n",
        "print(\"Trained weight:\", w.item())\n",
        "print(\"Trained bias:\", b.item())\n"
      ],
      "metadata": {
        "id": "o7s2KMJVpZ5M"
      },
      "execution_count": null,
      "outputs": []
    },
    {
      "cell_type": "markdown",
      "source": [
        "### 6️⃣ Bonus ⚡\n",
        "* Convert a PyTorch tensor to a NumPy array.\n",
        "\n",
        "* Convert it back to a PyTorch tensor."
      ],
      "metadata": {
        "id": "rGhFqtrVpv8_"
      }
    },
    {
      "cell_type": "code",
      "source": [
        "# To do\n",
        "\n",
        "\n",
        "\n",
        "\n"
      ],
      "metadata": {
        "id": "AF4t92eDpq0j"
      },
      "execution_count": null,
      "outputs": []
    }
  ]
}