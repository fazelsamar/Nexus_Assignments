{
 "cells": [
  {
   "cell_type": "markdown",
   "id": "3ad5fcd0",
   "metadata": {},
   "source": [
    "# 🔥 Assignment: Exploring PyTorch\n",
    "\n",
    "<p align=\"center\">📢⚠️📂  </p>\n",
    "\n",
    "<p align=\"center\"> Please name your file using the format: <code>assignmentName_nickname.py/.ipynb</code> (e.g., <code>project1_ali.py</code>) and push it to GitHub with a clear commit message.</p>\n",
    "\n",
    "<p align=\"center\"> 🚨📝🧠 </p>\n",
    "\n",
    "------------------------------------------------\n",
    "\n"
   ]
  },
  {
   "cell_type": "markdown",
   "id": "9fe0da2a",
   "metadata": {},
   "source": [
    "## 🎯 Goal\n",
    "This assignment evaluates your basic skills in using PyTorch, focusing on tensors, autograd, and a small training loop.\n",
    "\n"
   ]
  },
  {
   "cell_type": "markdown",
   "id": "7c2600b9",
   "metadata": {},
   "source": [
    "### 1️⃣ Setup and Basics\n",
    "**Task:**\n",
    "\n",
    "* Install PyTorch and check its version.\n",
    "\n",
    "* Create a 2D tensor and print it."
   ]
  },
  {
   "cell_type": "code",
   "execution_count": null,
   "id": "2a0090f6",
   "metadata": {},
   "outputs": [
    {
     "name": "stdout",
     "output_type": "stream",
     "text": [
      "PyTorch version: 2.6.0+cu124\n",
      "Tensor x:\n",
      " tensor([[1., 2.],\n",
      "        [3., 4.]])\n"
     ]
    }
   ],
   "source": [
    "import torch\n",
    "\n",
    "print(\"PyTorch version:\", torch.__version__)\n",
    "x = torch.tensor([[1., 2.], [3., 4.]])\n",
    "print(\"Tensor x:\\n\", x)\n"
   ]
  },
  {
   "cell_type": "code",
   "execution_count": null,
   "id": "843ede06",
   "metadata": {},
   "outputs": [
    {
     "name": "stdout",
     "output_type": "stream",
     "text": [
      "Tensor y:\n",
      " tensor([[5., 6.],\n",
      "        [7., 8.]])\n"
     ]
    }
   ],
   "source": [
    "# Your turn:\n",
    "# Create another tensor y of the same shape with values [[5, 6], [7, 8]].\n",
    "y = torch.tensor([[5., 6.], [7., 8.]])\n",
    "print(\"Tensor y:\\n\", y)"
   ]
  },
  {
   "cell_type": "markdown",
   "id": "e31723db",
   "metadata": {},
   "source": [
    "### 2️⃣ Tensor Operations 🧮\n",
    "**Task:** Perform addition and matrix multiplication."
   ]
  },
  {
   "cell_type": "code",
   "execution_count": null,
   "id": "8fbdf5ac",
   "metadata": {},
   "outputs": [
    {
     "name": "stdout",
     "output_type": "stream",
     "text": [
      "Addition:\n",
      " tensor([[ 6.,  8.],\n",
      "        [10., 12.]])\n",
      "Matrix Multiplication:\n",
      " tensor([[19., 22.],\n",
      "        [43., 50.]])\n"
     ]
    }
   ],
   "source": [
    "z = x + y\n",
    "print(\"Addition:\\n\", z)\n",
    "\n",
    "mat_mul = x @ y\n",
    "print(\"Matrix Multiplication:\\n\", mat_mul)\n"
   ]
  },
  {
   "cell_type": "code",
   "execution_count": null,
   "id": "90c7b77e",
   "metadata": {},
   "outputs": [
    {
     "name": "stdout",
     "output_type": "stream",
     "text": [
      "Element-wise Multiplication:\n",
      " tensor([[ 5., 12.],\n",
      "        [21., 32.]])\n"
     ]
    }
   ],
   "source": [
    "# Your turn:\n",
    "# Perform element-wise multiplication (x * y) and print the result.\n",
    "element_wise_mul = x * y\n",
    "print(\"Element-wise Multiplication:\\n\", element_wise_mul)"
   ]
  },
  {
   "cell_type": "markdown",
   "id": "6dce8204",
   "metadata": {},
   "source": [
    "### 3️⃣ Autograd and Gradients ⚙️\n",
    "**Task:** Enable gradient tracking and compute derivatives."
   ]
  },
  {
   "cell_type": "code",
   "execution_count": null,
   "id": "8c4d7d1f",
   "metadata": {},
   "outputs": [
    {
     "name": "stdout",
     "output_type": "stream",
     "text": [
      "Gradient of b wrt a: tensor(8.)\n"
     ]
    }
   ],
   "source": [
    "a = torch.tensor(3.0, requires_grad=True)\n",
    "b = (a ** 2) + 2 * a + 1\n",
    "b.backward()\n",
    "print(\"Gradient of b wrt a:\", a.grad)\n"
   ]
  },
  {
   "cell_type": "code",
   "execution_count": null,
   "id": "dfd677a6",
   "metadata": {},
   "outputs": [
    {
     "name": "stdout",
     "output_type": "stream",
     "text": [
      "Gradient of q wrt p: tensor(16.)\n"
     ]
    }
   ],
   "source": [
    "# Your turn:\n",
    "# Create a tensor p with value 2.0 (requires_grad=True) and compute the gradient of q = p^3 + 4p.\n",
    "p = torch.tensor(2.0, requires_grad=True)\n",
    "q = p**3 + 4*p\n",
    "q.backward()\n",
    "print(\"Gradient of q wrt p:\", p.grad)"
   ]
  },
  {
   "cell_type": "markdown",
   "id": "3a5fce9a",
   "metadata": {},
   "source": [
    "### 4️⃣ Random Tensors 🎲\n",
    "**Task:** Generate a random tensor of shape (2, 3) and find its max and min."
   ]
  },
  {
   "cell_type": "code",
   "execution_count": null,
   "id": "b1a119f0",
   "metadata": {},
   "outputs": [
    {
     "name": "stdout",
     "output_type": "stream",
     "text": [
      "Random Tensor:\n",
      " tensor([[0.6153, 0.5978, 0.6081],\n",
      "        [0.7367, 0.5628, 0.2782]])\n",
      "Max: tensor(0.7367)\n",
      "Min: tensor(0.2782)\n"
     ]
    }
   ],
   "source": [
    "rand_tensor = torch.rand((2, 3))\n",
    "print(\"Random Tensor:\\n\", rand_tensor)\n",
    "print(\"Max:\", torch.max(rand_tensor))\n",
    "print(\"Min:\", torch.min(rand_tensor))"
   ]
  },
  {
   "cell_type": "markdown",
   "id": "ad1364c7",
   "metadata": {},
   "source": [
    "### 5️⃣ Mini Training Loop 🤖\n",
    "**Task:** Train a simple linear model y = wx + b using gradient descent."
   ]
  },
  {
   "cell_type": "code",
   "execution_count": null,
   "id": "cb1cb8ad",
   "metadata": {},
   "outputs": [
    {
     "name": "stdout",
     "output_type": "stream",
     "text": [
      "Trained weight: 1.8676393032073975\n",
      "Trained bias: 0.30086851119995117\n"
     ]
    }
   ],
   "source": [
    "# Data\n",
    "x_train = torch.tensor([[1.0], [2.0], [3.0]])\n",
    "y_train = torch.tensor([[2.0], [4.0], [6.0]])\n",
    "\n",
    "# Model\n",
    "w = torch.randn(1, requires_grad=True)\n",
    "b = torch.zeros(1, requires_grad=True)\n",
    "\n",
    "# Training\n",
    "learning_rate = 0.01\n",
    "for epoch in range(100):\n",
    "    y_pred = w * x_train + b\n",
    "    loss = torch.mean((y_pred - y_train) ** 2)\n",
    "    loss.backward()\n",
    "\n",
    "    # Update\n",
    "    with torch.no_grad():\n",
    "        w -= learning_rate * w.grad\n",
    "        b -= learning_rate * b.grad\n",
    "        w.grad.zero_()\n",
    "        b.grad.zero_()\n",
    "\n",
    "print(\"Trained weight:\", w.item())\n",
    "print(\"Trained bias:\", b.item())"
   ]
  },
  {
   "cell_type": "markdown",
   "id": "2caa00fc",
   "metadata": {},
   "source": [
    "### 6️⃣ Bonus ⚡\n",
    "* Convert a PyTorch tensor to a NumPy array.\n",
    "\n",
    "* Convert it back to a PyTorch tensor."
   ]
  },
  {
   "cell_type": "code",
   "execution_count": null,
   "id": "d8f1b45c",
   "metadata": {},
   "outputs": [
    {
     "name": "stdout",
     "output_type": "stream",
     "text": [
      "Tensor converted to NumPy array:\n",
      " [[1. 2.]\n",
      " [3. 4.]]\n",
      "NumPy array converted back to PyTorch tensor:\n",
      " tensor([[1., 2.],\n",
      "        [3., 4.]])\n"
     ]
    }
   ],
   "source": [
    "# To do\n",
    "# Convert a PyTorch tensor to a NumPy array.\n",
    "numpy_array = x.numpy()\n",
    "print(\"Tensor converted to NumPy array:\\n\", numpy_array)\n",
    "\n",
    "# Convert it back to a PyTorch tensor.\n",
    "pytorch_tensor = torch.from_numpy(numpy_array)\n",
    "print(\"NumPy array converted back to PyTorch tensor:\\n\", pytorch_tensor)"
   ]
  }
 ],
 "metadata": {
  "language_info": {
   "name": "python"
  }
 },
 "nbformat": 4,
 "nbformat_minor": 5
}
